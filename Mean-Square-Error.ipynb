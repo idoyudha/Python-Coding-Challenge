{
 "metadata": {
  "language_info": {
   "codemirror_mode": {
    "name": "ipython",
    "version": 3
   },
   "file_extension": ".py",
   "mimetype": "text/x-python",
   "name": "python",
   "nbconvert_exporter": "python",
   "pygments_lexer": "ipython3",
   "version": "3.8.3-final"
  },
  "orig_nbformat": 2,
  "kernelspec": {
   "name": "python3",
   "display_name": "Python 3",
   "language": "python"
  }
 },
 "nbformat": 4,
 "nbformat_minor": 2,
 "cells": [
  {
   "cell_type": "code",
   "execution_count": 1,
   "metadata": {},
   "outputs": [],
   "source": [
    "def mse(y_true, y_pred):\n",
    "    minus = [x-y for (x,y) in zip(y_true, y_pred)]\n",
    "    sqr = [s**2 for s in minus]\n",
    "    n = len(y_true)\n",
    "    mse = sum(sqr)/n\n",
    "    return mse"
   ]
  },
  {
   "cell_type": "code",
   "execution_count": 2,
   "metadata": {},
   "outputs": [],
   "source": [
    "# Given values\n",
    "y_true = [1,1,2,2,4]  # Y_true = Y (original values)\n",
    "  \n",
    "# calculated values\n",
    "y_pred = [0.8,1.27,1.80,2.79,3.5]  # Y_pred = Y'"
   ]
  },
  {
   "cell_type": "code",
   "execution_count": 3,
   "metadata": {},
   "outputs": [
    {
     "output_type": "execute_result",
     "data": {
      "text/plain": [
       "0.20540000000000003"
      ]
     },
     "metadata": {},
     "execution_count": 3
    }
   ],
   "source": [
    "mse(y_true, y_pred)"
   ]
  }
 ]
}