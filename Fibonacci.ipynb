{
 "metadata": {
  "language_info": {
   "codemirror_mode": {
    "name": "ipython",
    "version": 3
   },
   "file_extension": ".py",
   "mimetype": "text/x-python",
   "name": "python",
   "nbconvert_exporter": "python",
   "pygments_lexer": "ipython3",
   "version": "3.8.3-final"
  },
  "orig_nbformat": 2,
  "kernelspec": {
   "name": "python3",
   "display_name": "Python 3",
   "language": "python"
  }
 },
 "nbformat": 4,
 "nbformat_minor": 2,
 "cells": [
  {
   "cell_type": "code",
   "execution_count": 3,
   "metadata": {},
   "outputs": [],
   "source": [
    "def fibonacci(n):\n",
    "    n1 = 0 #define first number \n",
    "    n2 = 1 #define second number\n",
    "    total = 0 #first sum and first number of n1\n",
    "    start = 0 #counter\n",
    "    f = [] #define list of fibonacci\n",
    "    while n>start:\n",
    "        f.append(total)\n",
    "        start = start + 1\n",
    "        n1 = n2\n",
    "        n2 = total\n",
    "        total = n1 + n2\n",
    "    x = sum(f)\n",
    "    #print all list and sum of fibonacci\n",
    "    print(\"List of Fibonacci = \", f)\n",
    "    print(\"Sum of Fibonacci = \", x)"
   ]
  },
  {
   "cell_type": "code",
   "execution_count": 4,
   "metadata": {},
   "outputs": [
    {
     "output_type": "stream",
     "name": "stdout",
     "text": [
      "List of Fibonacci =  [0, 1, 1, 2, 3]\nSum of Fibonacci =  7\n"
     ]
    }
   ],
   "source": [
    "fibonacci(5)"
   ]
  },
  {
   "cell_type": "code",
   "execution_count": null,
   "metadata": {},
   "outputs": [],
   "source": []
  }
 ]
}